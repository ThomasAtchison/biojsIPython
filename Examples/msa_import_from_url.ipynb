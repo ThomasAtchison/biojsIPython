{
 "cells": [
  {
   "cell_type": "code",
   "execution_count": 8,
   "metadata": {
    "collapsed": false
   },
   "outputs": [],
   "source": [
    "import biojs"
   ]
  },
  {
   "cell_type": "code",
   "execution_count": 9,
   "metadata": {
    "collapsed": false
   },
   "outputs": [],
   "source": [
    "msa = biojs.msa()"
   ]
  },
  {
   "cell_type": "code",
   "execution_count": 10,
   "metadata": {
    "collapsed": false
   },
   "outputs": [],
   "source": [
    "msa.importURL(\"http://rostlab.org/~goldberg/jalv_example.clustal\")"
   ]
  },
  {
   "cell_type": "code",
   "execution_count": 11,
   "metadata": {
    "collapsed": false
   },
   "outputs": [],
   "source": [
    "msa.plot()"
   ]
  },
  {
   "cell_type": "code",
   "execution_count": 13,
   "metadata": {
    "collapsed": true
   },
   "outputs": [],
   "source": [
    "msa2 = biojs.msa()"
   ]
  },
  {
   "cell_type": "code",
   "execution_count": 14,
   "metadata": {
    "collapsed": false
   },
   "outputs": [],
   "source": [
    "msa2.importURL('https://github.com/wilzbach/msa/blob/master/snippets/data/ssgp.clustal')\n",
    "msa2.plot()"
   ]
  },
  {
   "cell_type": "code",
   "execution_count": null,
   "metadata": {
    "collapsed": false
   },
   "outputs": [],
   "source": []
  },
  {
   "cell_type": "code",
   "execution_count": null,
   "metadata": {
    "collapsed": true
   },
   "outputs": [],
   "source": []
  }
 ],
 "metadata": {
  "kernelspec": {
   "display_name": "Python 3",
   "language": "python",
   "name": "python3"
  },
  "language_info": {
   "codemirror_mode": {
    "name": "ipython",
    "version": 3
   },
   "file_extension": ".py",
   "mimetype": "text/x-python",
   "name": "python",
   "nbconvert_exporter": "python",
   "pygments_lexer": "ipython3",
   "version": "3.5.1"
  },
  "widgets": {
   "state": {
    "057519eef1364265bff0a896e8a3df09": {
     "views": []
    },
    "35cb4f5e507a4f0092b583c46e55b504": {
     "views": []
    },
    "5da25278f24a469f9866f0b932e56029": {
     "views": []
    },
    "6a91ae86f5994b4d961116f4ccb74f47": {
     "views": [
      {
       "cell_index": 3
      }
     ]
    },
    "8d89d2a9ccad4006b630c0887b435bcf": {
     "views": [
      {
       "cell_index": 6
      }
     ]
    },
    "a346760af4d04fa5811f0b2a50773e96": {
     "views": []
    },
    "da8b889a28ba4adeb424a2dbf8f5ca0d": {
     "views": []
    },
    "e6fccbf3b1b243959e424eef2c732ce2": {
     "views": []
    },
    "e704d28a4fdf49deb41d7ea811ba5e00": {
     "views": []
    },
    "e88b3cf404cd4cdfa9844f1e20a61025": {
     "views": []
    }
   },
   "version": "1.1.2"
  }
 },
 "nbformat": 4,
 "nbformat_minor": 0
}
