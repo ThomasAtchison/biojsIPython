{
 "cells": [
  {
   "cell_type": "code",
   "execution_count": 1,
   "metadata": {
    "collapsed": false
   },
   "outputs": [],
   "source": [
    "import biojs\n",
    "theSequence = '111111111122222222223333333333444444444455555555556666666666111111111122222222223333333333444444444455555555556666666666'"
   ]
  },
  {
   "cell_type": "code",
   "execution_count": 2,
   "metadata": {
    "collapsed": true
   },
   "outputs": [],
   "source": [
    "options = {\n",
    "    'sequence' : theSequence,\n",
    "    'format' : 'CODATA',\n",
    "}                  \n",
    "seqs = biojs.Seq(options)"
   ]
  },
  {
   "cell_type": "code",
   "execution_count": 3,
   "metadata": {
    "collapsed": true
   },
   "outputs": [],
   "source": [
    "annotations = [\n",
    "    {\n",
    "        'name':\"track1\",\n",
    "        'html':\"<br> Example of <b>HTML</b>\",\n",
    "        'color':\"black\",\n",
    "        'regions': [\n",
    "            {'start': 2, 'end': 2},\n",
    "            {'start': 20, 'end': 30},\n",
    "            {'start': 31, 'end': 43}\n",
    "        ]\n",
    "    }\n",
    "]\n",
    "\n",
    "highlights = [\n",
    "    { \"start\": 1, \"end\": 15, \"color\": \"white\", \"background\": \"red\", \"id\": \"aaa\" },\n",
    "    { \"start\": 7, \"end\": 21, \"color\": \"white\", \"background\": \"green\", \"id\": \"bbb\" },\n",
    "    { \"start\": 12, \"end\": 26, \"color\": \"white\", \"background\": \"blue\", \"id\": \"ccc\" }\n",
    "]"
   ]
  },
  {
   "cell_type": "code",
   "execution_count": 4,
   "metadata": {
    "collapsed": true
   },
   "outputs": [],
   "source": [
    "seqs.addAnnotation(annotations)\n",
    "seqs.addHighlight(highlights)"
   ]
  },
  {
   "cell_type": "code",
   "execution_count": 5,
   "metadata": {
    "collapsed": false
   },
   "outputs": [],
   "source": [
    "seqs.plot()"
   ]
  },
  {
   "cell_type": "code",
   "execution_count": null,
   "metadata": {
    "collapsed": true
   },
   "outputs": [],
   "source": []
  }
 ],
 "metadata": {
  "kernelspec": {
   "display_name": "Python 3",
   "language": "python",
   "name": "python3"
  },
  "language_info": {
   "codemirror_mode": {
    "name": "ipython",
    "version": 3
   },
   "file_extension": ".py",
   "mimetype": "text/x-python",
   "name": "python",
   "nbconvert_exporter": "python",
   "pygments_lexer": "ipython3",
   "version": "3.5.1"
  },
  "widgets": {
   "state": {
    "4357048f810c4ac4b6c876d5aec7e295": {
     "views": []
    },
    "49fdc7a510ec46be9e65e79daace47ae": {
     "views": []
    },
    "67a02a4f634e4904a599b716b331c3aa": {
     "views": []
    },
    "6aeb7309617b4194806c19860d20cf66": {
     "views": []
    },
    "b630aaefcfcb490294e34d5f5c738c69": {
     "views": []
    },
    "e6397c48853849acb375416c6ebcdc0e": {
     "views": [
      {
       "cell_index": 4
      }
     ]
    }
   },
   "version": "1.1.2"
  }
 },
 "nbformat": 4,
 "nbformat_minor": 0
}
