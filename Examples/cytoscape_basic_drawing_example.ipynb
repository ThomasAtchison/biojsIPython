{
 "cells": [
  {
   "cell_type": "code",
   "execution_count": 3,
   "metadata": {
    "collapsed": false
   },
   "outputs": [],
   "source": [
    "import biojs"
   ]
  },
  {
   "cell_type": "code",
   "execution_count": 4,
   "metadata": {
    "collapsed": false
   },
   "outputs": [],
   "source": [
    "options = {\n",
    "  'headless': False,\n",
    "  'renderer': {\n",
    "    'name': \"canvas\"\n",
    "  },\n",
    "  \n",
    "  'elements' : {\n",
    "    'nodes': [\n",
    "      { 'data': { 'id': 'cat' } },\n",
    "      { 'data': { 'id': 'bird' } },\n",
    "      { 'data': { 'id': 'ladybug' } },\n",
    "      { 'data': { 'id': 'aphid' } },\n",
    "      { 'data': { 'id': 'rose' } },\n",
    "      { 'data': { 'id': 'grasshopper' } },\n",
    "      { 'data': { 'id': 'plant' } },\n",
    "      { 'data': { 'id': 'wheat' } }\n",
    "    ],\n",
    "    'edges': [\n",
    "      { 'data': { 'source': 'cat', 'target': 'bird' } },\n",
    "      { 'data': { 'source': 'bird', 'target': 'ladybug' } },\n",
    "      { 'data': { 'source': 'bird', 'target': 'grasshopper' } },\n",
    "      { 'data': { 'source': 'grasshopper', 'target': 'plant' } },\n",
    "      { 'data': { 'source': 'grasshopper', 'target': 'wheat' } },\n",
    "      { 'data': { 'source': 'ladybug', 'target': 'aphid' } },\n",
    "      { 'data': { 'source': 'aphid', 'target': 'rose' } }\n",
    "    ]\n",
    "  },\n",
    "  'layout': {\n",
    "    'name': 'breadthfirst',\n",
    "    'directed': True,\n",
    "    'padding': 10\n",
    "  }\n",
    "}\n",
    "w2 = biojs.cytoscape(options)\n",
    "w2.plot()"
   ]
  },
  {
   "cell_type": "code",
   "execution_count": null,
   "metadata": {
    "collapsed": true
   },
   "outputs": [],
   "source": []
  }
 ],
 "metadata": {
  "kernelspec": {
   "display_name": "Python 3",
   "language": "python",
   "name": "python3"
  },
  "language_info": {
   "codemirror_mode": {
    "name": "ipython",
    "version": 3
   },
   "file_extension": ".py",
   "mimetype": "text/x-python",
   "name": "python",
   "nbconvert_exporter": "python",
   "pygments_lexer": "ipython3",
   "version": "3.5.1"
  },
  "widgets": {
   "state": {
    "46f1577789f64455bdbe8e857eacc307": {
     "views": []
    },
    "92ee914f0f3940eda26154c2d2f1d482": {
     "views": [
      {
       "cell_index": 1
      }
     ]
    },
    "bf37ef950b1e4c09b66ba71a4f97e896": {
     "views": []
    },
    "ea409f2ed7fa4b608e06639c769501d1": {
     "views": []
    }
   },
   "version": "1.1.2"
  }
 },
 "nbformat": 4,
 "nbformat_minor": 0
}
